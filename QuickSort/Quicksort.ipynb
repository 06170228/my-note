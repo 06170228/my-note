{
 "cells": [
  {
   "cell_type": "code",
   "execution_count": 19,
   "metadata": {},
   "outputs": [],
   "source": [
    "def quick_sort(list): #extra-place\n",
    "    smaller = [] #小於基準點\n",
    "    bigger = [] #大於基準點\n",
    "    keylist = [] #基準點\n",
    "    count = 0\n",
    "    \n",
    "    if len(list) <= 1: \n",
    "        \n",
    "        return list\n",
    "    else:\n",
    "        key = list[0] #第0個數為key值\n",
    "        for i in list:\n",
    "            count+=1\n",
    "            if i < key: #比key值小的數\n",
    "                smaller.append(i)\n",
    "            elif i > key: #比key值大的數\n",
    "                bigger.append(i)\n",
    "            else:\n",
    "                keylist.append(i)\n",
    "    smaller = quick_sort(smaller) #再重新呼叫quicksort\n",
    "    bigger = quick_sort(bigger)\n",
    "    return count"
   ]
  },
  {
   "cell_type": "code",
   "execution_count": 20,
   "metadata": {},
   "outputs": [],
   "source": [
    "x=[4,7,2,8,3,9,0,1,5,6]"
   ]
  },
  {
   "cell_type": "code",
   "execution_count": 21,
   "metadata": {},
   "outputs": [
    {
     "data": {
      "text/plain": [
       "10"
      ]
     },
     "execution_count": 21,
     "metadata": {},
     "output_type": "execute_result"
    }
   ],
   "source": [
    "quick_sort(x)"
   ]
  },
  {
   "cell_type": "code",
   "execution_count": null,
   "metadata": {},
   "outputs": [],
   "source": []
  }
 ],
 "metadata": {
  "kernelspec": {
   "display_name": "Python 3",
   "language": "python",
   "name": "python3"
  },
  "language_info": {
   "codemirror_mode": {
    "name": "ipython",
    "version": 3
   },
   "file_extension": ".py",
   "mimetype": "text/x-python",
   "name": "python",
   "nbconvert_exporter": "python",
   "pygments_lexer": "ipython3",
   "version": "3.6.5"
  }
 },
 "nbformat": 4,
 "nbformat_minor": 2
}
